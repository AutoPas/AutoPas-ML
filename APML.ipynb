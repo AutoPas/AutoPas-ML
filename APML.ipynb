{
 "cells": [
  {
   "cell_type": "code",
   "execution_count": 1,
   "metadata": {},
   "outputs": [
    {
     "name": "stdout",
     "output_type": "stream",
     "text": [
      "1.13.1\n"
     ]
    }
   ],
   "source": [
    "# Import\n",
    "from __future__ import absolute_import, division, print_function\n",
    "\n",
    "# TensorFlow and tf.keras\n",
    "import tensorflow as tf\n",
    "from tensorflow import keras\n",
    "\n",
    "# Helper libraries\n",
    "import numpy as np\n",
    "import matplotlib.pyplot as plt\n",
    "\n",
    "print(tf.__version__)\n",
    "tf.enable_eager_execution()"
   ]
  },
  {
   "cell_type": "code",
   "execution_count": 2,
   "metadata": {},
   "outputs": [],
   "source": [
    "# Load Data \n",
    "filename = 'C:\\\\Users\\\\deniz\\\\Desktop\\\\Thesis of ML for AutoPas\\\\Data\\\\Batch2\\\\exampleW.txt'\n",
    "arr = np.genfromtxt(filename, delimiter=',')"
   ]
  },
  {
   "cell_type": "code",
   "execution_count": 3,
   "metadata": {},
   "outputs": [
    {
     "name": "stdout",
     "output_type": "stream",
     "text": [
      "(165, 7)\n",
      "[[5.0000e+00 2.0000e-01 1.0000e+00 ... 4.0000e-01 4.0000e+00 6.4000e+01]\n",
      " [5.0000e+00 2.0000e-01 1.0000e+00 ... 4.0000e-01 8.0000e+00 5.1200e+02]\n",
      " [5.0000e+00 2.0000e-01 1.0000e+00 ... 4.0000e-01 1.2000e+01 1.7280e+03]\n",
      " ...\n",
      " [5.0000e+00 2.0000e-01 4.0000e+00 ... 4.0000e-01 1.6000e+01 4.0960e+03]\n",
      " [5.0000e+00 2.0000e-01 4.0000e+00 ... 4.0000e-01 2.0000e+01 8.0000e+03]\n",
      " [5.0000e+00 2.0000e-01 4.0000e+00 ... 4.0000e-01 2.4000e+01 1.3824e+04]]\n",
      "(165, 29)\n",
      "[[6.79090000e+04 5.93120000e+04 5.52720000e+04 ... 5.07308000e+05\n",
      "  7.05730000e+04 3.80286000e+05]\n",
      " [1.36553000e+05 1.29404000e+05 8.70470000e+04 ... 8.28705000e+05\n",
      "  3.60483000e+06 4.45874000e+05]\n",
      " [2.68971000e+05 2.73783000e+05 3.08114000e+05 ... 2.00920900e+06\n",
      "  4.36936900e+06 1.24391300e+06]\n",
      " ...\n",
      " [6.27022500e+06 6.67257200e+06 6.06794950e+07 ... 2.55474574e+08\n",
      "  6.33594420e+07 2.44959710e+07]\n",
      " [1.41749490e+07 1.49277890e+07 2.07702428e+08 ... 4.01262388e+08\n",
      "  1.77846253e+08 1.42188411e+08]\n",
      " [2.18101380e+07 2.31634430e+07 5.18710710e+07 ... 1.27437737e+09\n",
      "  4.72123593e+08 4.27003233e+08]]\n",
      "(165,)\n",
      "[[5.0000e+00 2.0000e-01 1.0000e+00 ... 4.0000e+00 6.4000e+01 1.3000e+01]\n",
      " [5.0000e+00 2.0000e-01 1.0000e+00 ... 8.0000e+00 5.1200e+02 2.4000e+01]\n",
      " [5.0000e+00 2.0000e-01 1.0000e+00 ... 1.2000e+01 1.7280e+03 2.4000e+01]\n",
      " ...\n",
      " [5.0000e+00 2.0000e-01 4.0000e+00 ... 1.6000e+01 4.0960e+03 0.0000e+00]\n",
      " [5.0000e+00 2.0000e-01 4.0000e+00 ... 2.0000e+01 8.0000e+03 0.0000e+00]\n",
      " [5.0000e+00 2.0000e-01 4.0000e+00 ... 2.4000e+01 1.3824e+04 0.0000e+00]]\n",
      "(165, 8)\n",
      "[[5.0000e+00 2.0000e-01 1.0000e+00 ... 4.0000e+00 6.4000e+01 1.3000e+01]\n",
      " [5.0000e+00 2.0000e-01 1.0000e+00 ... 8.0000e+00 5.1200e+02 2.4000e+01]\n",
      " [5.0000e+00 2.0000e-01 1.0000e+00 ... 1.2000e+01 1.7280e+03 2.4000e+01]\n",
      " ...\n",
      " [5.0000e+00 2.0000e-01 4.0000e+00 ... 1.6000e+01 4.0960e+03 0.0000e+00]\n",
      " [5.0000e+00 2.0000e-01 4.0000e+00 ... 2.0000e+01 8.0000e+03 0.0000e+00]\n",
      " [5.0000e+00 2.0000e-01 4.0000e+00 ... 2.4000e+01 1.3824e+04 0.0000e+00]]\n"
     ]
    }
   ],
   "source": [
    "# Slicing the data and checking out the shape\n",
    "print(arr[:,0:7].shape)\n",
    "print(arr[:,0:7])\n",
    "print(arr[:,7:].shape)\n",
    "print(arr[:,7:])\n",
    "print(np.argmin(arr[:,7:], 1).shape)\n",
    "print(np.column_stack((arr[:,0:7], np.argmin(arr[:,7:], 1))))\n",
    "print(np.column_stack((arr[:,0:7], np.argmin(arr[:,7:], 1))).shape)\n",
    "print(np.column_stack((arr[:,0:7], np.argmin(arr[:,7:], 1))))\n",
    "nptotal = np.column_stack((arr[:,0:7], np.argmin(arr[:,7:], 1)))\n",
    "npfeatures = arr[:,0:7]\n",
    "nplabels = np.argmin(arr[:,7:], 1)"
   ]
  },
  {
   "cell_type": "code",
   "execution_count": 4,
   "metadata": {},
   "outputs": [],
   "source": [
    "# Model\n",
    "model = keras.Sequential([\n",
    "    keras.layers.Dense(7, activation=tf.nn.relu),\n",
    "    keras.layers.Dense(29, activation=tf.nn.softmax)\n",
    "])\n",
    "\n",
    "model.compile(optimizer='adam', \n",
    "              loss='sparse_categorical_crossentropy',\n",
    "              metrics=['accuracy'])"
   ]
  },
  {
   "cell_type": "code",
   "execution_count": 5,
   "metadata": {},
   "outputs": [
    {
     "name": "stdout",
     "output_type": "stream",
     "text": [
      "WARNING:tensorflow:From C:\\Users\\deniz\\Anaconda3\\envs\\tf\\lib\\site-packages\\tensorflow\\python\\ops\\resource_variable_ops.py:642: colocate_with (from tensorflow.python.framework.ops) is deprecated and will be removed in a future version.\n",
      "Instructions for updating:\n",
      "Colocations handled automatically by placer.\n",
      "Epoch 1/5\n",
      "165/165 [==============================] - 0s 2ms/sample - loss: 12.4244 - acc: 0.2242\n",
      "Epoch 2/5\n",
      "165/165 [==============================] - 0s 91us/sample - loss: 12.4232 - acc: 0.2242\n",
      "Epoch 3/5\n",
      "165/165 [==============================] - 0s 103us/sample - loss: 12.4189 - acc: 0.2242\n",
      "Epoch 4/5\n",
      "165/165 [==============================] - 0s 103us/sample - loss: 12.4166 - acc: 0.2242\n",
      "Epoch 5/5\n",
      "165/165 [==============================] - 0s 103us/sample - loss: 12.4139 - acc: 0.2242\n"
     ]
    },
    {
     "data": {
      "text/plain": [
       "<tensorflow.python.keras.callbacks.History at 0x2b3796473c8>"
      ]
     },
     "execution_count": 5,
     "metadata": {},
     "output_type": "execute_result"
    }
   ],
   "source": [
    "# Fun\n",
    "model.fit(npfeatures, nplabels, epochs=5)"
   ]
  }
 ],
 "metadata": {
  "kernelspec": {
   "display_name": "Python 3",
   "language": "python",
   "name": "python3"
  },
  "language_info": {
   "codemirror_mode": {
    "name": "ipython",
    "version": 3
   },
   "file_extension": ".py",
   "mimetype": "text/x-python",
   "name": "python",
   "nbconvert_exporter": "python",
   "pygments_lexer": "ipython3",
   "version": "3.7.3"
  }
 },
 "nbformat": 4,
 "nbformat_minor": 2
}
